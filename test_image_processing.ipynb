{
 "cells": [
  {
   "cell_type": "code",
   "execution_count": 77,
   "metadata": {},
   "outputs": [],
   "source": [
    "import torch\n",
    "from PIL import Image\n",
    "import requests\n",
    "import time\n",
    "import torchvision\n",
    "from image_processing_fast import BaseImageProcessorFast\n",
    "from torchvision.transforms import v2\n",
    "\n",
    "from transformers import AutoImageProcessor, AutoProcessor"
   ]
  },
  {
   "cell_type": "code",
   "execution_count": 88,
   "metadata": {},
   "outputs": [],
   "source": [
    "# checkpoint = \"SenseTime/deformable-detr\"\n",
    "checkpoint = \"facebook/detr-resnet-50\"\n",
    "# checkpoint = \"PekingU/rtdetr_r101vd\"\n",
    "\n",
    "device = \"cuda\"\n",
    "load_dtype = torch.float32"
   ]
  },
  {
   "cell_type": "code",
   "execution_count": 79,
   "metadata": {},
   "outputs": [
    {
     "name": "stdout",
     "output_type": "stream",
     "text": [
      "torch.Size([2, 3, 480, 640])\n"
     ]
    }
   ],
   "source": [
    "path = \"/home/ubuntu/models_implem/000000039769.jpg\"\n",
    "image_tensor = torchvision.io.read_image(path).to(device).unsqueeze(0)\n",
    "# create a batch by repeating the image\n",
    "image_tensor = image_tensor.repeat(2, 1, 1, 1)\n",
    "print(image_tensor.shape)"
   ]
  },
  {
   "cell_type": "code",
   "execution_count": 80,
   "metadata": {},
   "outputs": [
    {
     "data": {
      "text/plain": [
       "{'_processor_class': None,\n",
       " 'image_processor_type': 'DetrImageProcessor',\n",
       " 'format': 'coco_detection',\n",
       " 'do_resize': True,\n",
       " 'size': {'shortest_edge': 800, 'longest_edge': 1333},\n",
       " 'resample': <Resampling.BILINEAR: 2>,\n",
       " 'do_rescale': True,\n",
       " 'rescale_factor': 0.00392156862745098,\n",
       " 'do_normalize': True,\n",
       " 'do_convert_annotations': True,\n",
       " 'image_mean': [0.485, 0.456, 0.406],\n",
       " 'image_std': [0.229, 0.224, 0.225],\n",
       " 'do_pad': True,\n",
       " 'pad_size': None}"
      ]
     },
     "execution_count": 80,
     "metadata": {},
     "output_type": "execute_result"
    }
   ],
   "source": [
    "config = AutoProcessor.from_pretrained(checkpoint)\n",
    "config.to_dict()"
   ]
  },
  {
   "cell_type": "code",
   "execution_count": 81,
   "metadata": {},
   "outputs": [],
   "source": [
    "\n",
    "processor = AutoImageProcessor.from_pretrained(checkpoint, do_pad=False)\n",
    "# optim_processor = processor(\n",
    "#     image_mean=[0.485, 0.456, 0.406],\n",
    "#     image_std=[0.229, 0.224, 0.225],\n",
    "#     do_rescale=True,\n",
    "#     do_resize=True,\n",
    "#     do_normalize=True,\n",
    "#     size=(640, 640),\n",
    "#     dtype=torch.float32,\n",
    "# )\n",
    "\n",
    "optim_processor = BaseImageProcessorFast(**(processor.to_dict()))"
   ]
  },
  {
   "cell_type": "code",
   "execution_count": 92,
   "metadata": {},
   "outputs": [
    {
     "name": "stdout",
     "output_type": "stream",
     "text": [
      "Fast time:  4.103736400604248\n",
      "loading time:  3.7540950775146484\n",
      "processing time:  0.3482944965362549\n"
     ]
    }
   ],
   "source": [
    "\n",
    "start = time.time()\n",
    "loading_time = 0\n",
    "processing_time = 0\n",
    "for i in range(1000):\n",
    "    start_loadimage = time.time()\n",
    "    image_tensor = v2.functional.to_dtype(torchvision.io.read_image(path).unsqueeze(0).to(device), load_dtype)\n",
    "    image_tensor = torchvision.io.read_image(path).unsqueeze(0).to(device).to(load_dtype)\n",
    "    loading_time += time.time() - start_loadimage\n",
    "    start_process = time.time()\n",
    "    images_processed_optim = optim_processor(image_tensor)\n",
    "    processing_time += time.time() - start_process\n",
    "end = time.time()\n",
    "print(\"Fast time: \", end - start)\n",
    "print(\"loading time: \", loading_time)\n",
    "print(\"processing time: \", processing_time)"
   ]
  },
  {
   "cell_type": "code",
   "execution_count": 33,
   "metadata": {},
   "outputs": [
    {
     "data": {
      "text/plain": [
       "tensor([[[[140., 144., 146.,  ...,  94., 107., 102.],\n",
       "          [138., 142., 139.,  ..., 103., 115.,  96.],\n",
       "          [135., 150., 142.,  ..., 103., 108.,  93.],\n",
       "          ...,\n",
       "          [237., 225., 236.,  ..., 171., 181., 147.],\n",
       "          [230., 226., 238.,  ..., 114., 103.,  89.],\n",
       "          [238., 246., 238.,  ...,  74.,  74.,  73.]],\n",
       "\n",
       "         [[ 25.,  25.,  24.,  ...,  16.,  13.,  10.],\n",
       "          [ 22.,  26.,  20.,  ...,  11.,  17.,  13.],\n",
       "          [ 22.,  33.,  23.,  ...,   8.,  19.,  10.],\n",
       "          ...,\n",
       "          [100.,  84.,  96.,  ...,  47.,  62.,  28.],\n",
       "          [ 84.,  80.,  99.,  ...,  24.,   5.,   9.],\n",
       "          [100., 109.,  96.,  ...,  13.,  25.,  17.]],\n",
       "\n",
       "         [[ 56.,  67.,  73.,  ...,  38.,  39.,  33.],\n",
       "          [ 57.,  49.,  48.,  ...,  36.,  42.,  31.],\n",
       "          [ 42.,  59.,  53.,  ...,  32.,  39.,  26.],\n",
       "          ...,\n",
       "          [190., 196., 203.,  ..., 131., 144., 110.],\n",
       "          [221., 213., 202.,  ...,  62.,  46.,  44.],\n",
       "          [175., 191., 214.,  ...,  29.,  44.,  42.]]]], device='cuda:0')"
      ]
     },
     "execution_count": 33,
     "metadata": {},
     "output_type": "execute_result"
    }
   ],
   "source": [
    "image_tensor"
   ]
  },
  {
   "cell_type": "code",
   "execution_count": 31,
   "metadata": {},
   "outputs": [
    {
     "data": {
      "text/plain": [
       "tensor([[[[140., 144., 146.,  ...,  94., 107., 102.],\n",
       "          [138., 142., 139.,  ..., 103., 115.,  96.],\n",
       "          [135., 150., 142.,  ..., 103., 108.,  93.],\n",
       "          ...,\n",
       "          [237., 225., 236.,  ..., 171., 181., 147.],\n",
       "          [230., 226., 238.,  ..., 114., 103.,  89.],\n",
       "          [238., 246., 238.,  ...,  74.,  74.,  73.]],\n",
       "\n",
       "         [[ 25.,  25.,  24.,  ...,  16.,  13.,  10.],\n",
       "          [ 22.,  26.,  20.,  ...,  11.,  17.,  13.],\n",
       "          [ 22.,  33.,  23.,  ...,   8.,  19.,  10.],\n",
       "          ...,\n",
       "          [100.,  84.,  96.,  ...,  47.,  62.,  28.],\n",
       "          [ 84.,  80.,  99.,  ...,  24.,   5.,   9.],\n",
       "          [100., 109.,  96.,  ...,  13.,  25.,  17.]],\n",
       "\n",
       "         [[ 56.,  67.,  73.,  ...,  38.,  39.,  33.],\n",
       "          [ 57.,  49.,  48.,  ...,  36.,  42.,  31.],\n",
       "          [ 42.,  59.,  53.,  ...,  32.,  39.,  26.],\n",
       "          ...,\n",
       "          [190., 196., 203.,  ..., 131., 144., 110.],\n",
       "          [221., 213., 202.,  ...,  62.,  46.,  44.],\n",
       "          [175., 191., 214.,  ...,  29.,  44.,  42.]]]], device='cuda:0')"
      ]
     },
     "execution_count": 31,
     "metadata": {},
     "output_type": "execute_result"
    }
   ],
   "source": [
    "image_tensor"
   ]
  },
  {
   "cell_type": "code",
   "execution_count": 7,
   "metadata": {},
   "outputs": [
    {
     "name": "stdout",
     "output_type": "stream",
     "text": [
      "Slow time:  3.110658884048462\n",
      "loading time:  0.01995372772216797\n",
      "processing time:  3.0901899337768555\n"
     ]
    }
   ],
   "source": [
    "start = time.time()\n",
    "loading_time = 0\n",
    "processing_time = 0\n",
    "for i in range(100):\n",
    "    start_loadimage = time.time()\n",
    "    image = Image.open(path)\n",
    "    loading_time += time.time() - start_loadimage\n",
    "    start_process = time.time()\n",
    "    images_processed = processor(image, return_tensors=\"pt\").to(device)\n",
    "    processing_time += time.time() - start_process\n",
    "end = time.time()\n",
    "print(\"Slow time: \", end - start)\n",
    "print(\"loading time: \", loading_time)\n",
    "print(\"processing time: \", processing_time)"
   ]
  },
  {
   "cell_type": "code",
   "execution_count": 8,
   "metadata": {},
   "outputs": [
    {
     "name": "stdout",
     "output_type": "stream",
     "text": [
      "torch.Size([1, 3, 800, 1066])\n",
      "torch.Size([1, 3, 800, 1066])\n"
     ]
    }
   ],
   "source": [
    "# print shapes\n",
    "print(images_processed_optim[\"pixel_values\"].shape)\n",
    "print(images_processed[\"pixel_values\"].shape)"
   ]
  },
  {
   "cell_type": "code",
   "execution_count": 9,
   "metadata": {},
   "outputs": [
    {
     "name": "stdout",
     "output_type": "stream",
     "text": [
      "tensor(0.0520, device='cuda:0') tensor(0.0147, device='cuda:0')\n"
     ]
    }
   ],
   "source": [
    "# print max diff\n",
    "diff = torch.abs(images_processed[\"pixel_values\"] - images_processed_optim[\"pixel_values\"])\n",
    "# print relative difference and relative max difference\n",
    "print(diff.max()/images_processed[\"pixel_values\"].mean(), diff.median()/images_processed[\"pixel_values\"].mean())"
   ]
  },
  {
   "cell_type": "code",
   "execution_count": 10,
   "metadata": {},
   "outputs": [
    {
     "ename": "AssertionError",
     "evalue": "",
     "output_type": "error",
     "traceback": [
      "\u001b[0;31m---------------------------------------------------------------------------\u001b[0m",
      "\u001b[0;31mAssertionError\u001b[0m                            Traceback (most recent call last)",
      "Cell \u001b[0;32mIn[10], line 1\u001b[0m\n\u001b[0;32m----> 1\u001b[0m \u001b[38;5;28;01massert\u001b[39;00m torch\u001b[38;5;241m.\u001b[39mallclose(images_processed[\u001b[38;5;124m\"\u001b[39m\u001b[38;5;124mpixel_values\u001b[39m\u001b[38;5;124m\"\u001b[39m], images_processed_optim[\u001b[38;5;124m\"\u001b[39m\u001b[38;5;124mpixel_values\u001b[39m\u001b[38;5;124m\"\u001b[39m], atol\u001b[38;5;241m=\u001b[39m\u001b[38;5;241m1e-4\u001b[39m)\n",
      "\u001b[0;31mAssertionError\u001b[0m: "
     ]
    }
   ],
   "source": [
    "assert torch.allclose(images_processed[\"pixel_values\"], images_processed_optim[\"pixel_values\"], atol=1e-4)"
   ]
  }
 ],
 "metadata": {
  "kernelspec": {
   "display_name": "hf_311_121",
   "language": "python",
   "name": "python3"
  },
  "language_info": {
   "codemirror_mode": {
    "name": "ipython",
    "version": 3
   },
   "file_extension": ".py",
   "mimetype": "text/x-python",
   "name": "python",
   "nbconvert_exporter": "python",
   "pygments_lexer": "ipython3",
   "version": "3.11.9"
  }
 },
 "nbformat": 4,
 "nbformat_minor": 2
}
